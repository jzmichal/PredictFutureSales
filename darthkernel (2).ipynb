{
 "cells": [
  {
   "cell_type": "code",
   "execution_count": 1,
   "metadata": {
    "_cell_guid": "b1076dfc-b9ad-4769-8c92-a6c4dae69d19",
    "_uuid": "8f2839f25d086af736a60e9eeb907d3b93b6e0e5"
   },
   "outputs": [
    {
     "name": "stdout",
     "output_type": "stream",
     "text": [
      "['test.csv', 'item_categories.csv', 'sales_train.csv', 'sample_submission.csv', 'items.csv', 'shops.csv']\n"
     ]
    }
   ],
   "source": [
    "# This Python 3 environment comes with many helpful analytics libraries installed\n",
    "# It is defined by the kaggle/python docker image: https://github.com/kaggle/docker-python\n",
    "# For example, here's several helpful packages to load in \n",
    "\n",
    "import numpy as np # linear algebra\n",
    "import pandas as pd # data processing, CSV file I/O (e.g. pd.read_csv)\n",
    "pd.set_option('display.max_columns', 500)\n",
    "# Input data files are available in the \"../input/\" directory.\n",
    "# For example, running this (by clicking run or pressing Shift+Enter) will list the files in the input directory\n",
    "\n",
    "import os\n",
    "print(os.listdir(\"../input\"))\n",
    "\n",
    "# Any results you write to the current directory are saved as output."
   ]
  },
  {
   "cell_type": "code",
   "execution_count": 2,
   "metadata": {
    "_cell_guid": "79c7e3d0-c299-4dcb-8224-4455121ee9b0",
    "_uuid": "d629ff2d2480ee46fbb7e2d37f6b5fab8052498a"
   },
   "outputs": [],
   "source": [
    "sample = pd.read_csv(\"../input/sample_submission.csv\")\n",
    "items = pd.read_csv(\"../input/items.csv\")\n",
    "item_categories = pd.read_csv(\"../input/item_categories.csv\")\n",
    "shops = pd.read_csv(\"../input/shops.csv\")\n",
    "sales_train = pd.read_csv(\"../input/sales_train.csv\")\n",
    "test = pd.read_csv(\"../input/test.csv\")"
   ]
  },
  {
   "cell_type": "markdown",
   "metadata": {},
   "source": [
    "Before we get any further, lets review what's important so far. The task is to predict a month of sales counts for a set of stores and the items that each store sells. We're given dataframes items, item_categories, and shops, all of which have columns mostly consisting of numerical ID references. More importantly, We're given a log of transactions every day over the course of 33 consecutive months leading up to the test month, where each row in this dataframe corresponds to a particular item being sold (or returned) at a particular store for a price at a specified date and time. In order to turn this into a more natural regression format, we'll want to construct a new training matrix or edit a current existing one whereby we have a target feature representing total item count sold for an item during a specific month and store. \n",
    "\n",
    "Now we'll quickly check how complete our data is before we hop into visualization.\n",
    "\n",
    "From here, we can make a baseline prediction. An intuitive guess would be (assuming we've constructed said traininng matrix described above) to take the average across all months for each store's item's, and have that mean be the prediction for our test month if that combination of item and store does in fact exist in the test set. "
   ]
  },
  {
   "cell_type": "code",
   "execution_count": 3,
   "metadata": {},
   "outputs": [],
   "source": [
    "#group by date block, then shop, then items sold at that shop during that month\n",
    "sorted_sales = sales_train.groupby([\"date_block_num\", \"shop_id\", \"item_id\"])[\"item_cnt_day\"].sum()\n",
    "\n",
    "#mean value of every item sold per month\n",
    "mean_monthly_sales = sorted_sales.groupby([\"shop_id\", \"item_id\"]).mean()\n",
    "m = mean_monthly_sales.to_frame().reset_index()\n",
    "m = m.rename(index=str, columns = {\"item_cnt_day\":\"item_cnt_month\"})\n",
    "def r(x):\n",
    "    return int(round(x))\n",
    "m[\"item_cnt_month\"] = m[\"item_cnt_month\"].apply(r)\n",
    "merged = test.merge(m, on=[\"shop_id\", \"item_id\"], how=\"left\")\n",
    "merged = merged.fillna(0)\n",
    "submission = merged[[\"ID\", \"item_cnt_month\"]]\n",
    "submission.to_csv(\"initial_mean_prediction.csv\", index = False)"
   ]
  },
  {
   "cell_type": "markdown",
   "metadata": {},
   "source": [
    "Ok, that got us a score of 2.95236, which is not that great. An observation from what we've learned so far is that the scoreboard metric isn't exactly clear. It's better to have a lower score, with the top solutions nearing a score of 0. This will be important later on when we choose our loss function to optimize, since the idea is to have similar objective functions between the leaderboard metric and our loss function. Before we start some EDA, let's create one more baseline model recommended from the kaggle forums."
   ]
  },
  {
   "cell_type": "markdown",
   "metadata": {},
   "source": [
    "Found on discussion threads,\n",
    "\n",
    "\"A good exercise is to reproduce previous_value_benchmark. As the name suggest - in this benchmark for the each shop/item pair our predictions are just monthly sales from the previous month, i.e. October 2015.\n",
    "\n",
    "The most important step at reproducing this score is correctly aggregating daily data and constructing monthly sales data frame. You need to get lagged values, fill NaNs with zeros and clip the values into [0,20] range. If you do it correctly, you'll get precisely 1.16777 on the public leaderboard.\n",
    "\n",
    "Generating features like this is a necessary basis for more complex models. Also, if you decide to fit some model, don't forget to clip the target into [0,20] range, it makes a big difference.\""
   ]
  },
  {
   "cell_type": "code",
   "execution_count": 4,
   "metadata": {},
   "outputs": [
    {
     "name": "stdout",
     "output_type": "stream",
     "text": [
      "(214200, 2)\n"
     ]
    }
   ],
   "source": [
    "last_month_daily_sales = sales_train.loc[sales_train[\"date_block_num\"] == 33]\n",
    "grouped_oct_sales = last_month_daily_sales.groupby([\"shop_id\", \"item_id\"])[\"item_cnt_day\"].sum()\n",
    "oct_sales = grouped_oct_sales.to_frame().reset_index()\n",
    "prediction = test.merge(oct_sales, on = [\"shop_id\", \"item_id\"], how = \"left\")\n",
    "prediction = prediction.rename(index=str, columns = {\"item_cnt_day\":\"item_cnt_month\"})\n",
    "prediction = prediction.fillna(0)\n",
    "prediction[\"item_cnt_month\"] = prediction[\"item_cnt_month\"].clip(0,20)\n",
    "prediction = prediction[[\"ID\", \"item_cnt_month\"]]\n",
    "print(prediction.shape)\n",
    "prediction.to_csv(\"prev_val_benchmark.csv\", index=False)"
   ]
  },
  {
   "cell_type": "markdown",
   "metadata": {},
   "source": [
    "Now we can begin constructing a training matrix that is much more useful to us than the initial given one. Going off our previous idea, we'll want to of course have a column representing the target variable for each month. Additionally, since in any given month it isn't guarenteed that every shop/item combination will be accounted for, meaning if no one buys an item/shop combination that exists, it just doesnt show up, so we want to ensure it does with a count of 0 for that month. It turns out that generating every possible combination in the loop below creates over 65 million rows, which is a pretty big training matrix. In order to minimize computation time we'll limit the this training matrix to instead only include shop/item combinations present in the test set, which simultaneously takes advantage of the data leakage."
   ]
  },
  {
   "cell_type": "code",
   "execution_count": 5,
   "metadata": {},
   "outputs": [
    {
     "name": "stdout",
     "output_type": "stream",
     "text": [
      "(214200, 3) 214200\n",
      "(6734448, 3)\n"
     ]
    }
   ],
   "source": [
    "test_shops, test_items  = test[\"shop_id\"].unique(), test[\"item_id\"].unique()\n",
    "print(test.shape, len(test_shops) * len(test_items))\n",
    "#so the test set consists of all unique combinations of these two sets\n",
    "#only get the sales of shops that are present in test set\n",
    "leaky_sales = sales_train[sales_train[\"shop_id\"].isin(test_shops)]\n",
    "#only get the sales of item/shop combinations that are in the test set\n",
    "leaky_sales = leaky_sales[leaky_sales[\"item_id\"].isin((test_items))]\n",
    "blocks = list(range(0,34))\n",
    "unique_shops = leaky_sales[\"shop_id\"].unique()\n",
    "unique_items = leaky_sales[\"item_id\"].unique()\n",
    "combinations = []\n",
    "for block in blocks:\n",
    "    for shop in sorted(unique_shops):\n",
    "        for item in sorted(unique_items):\n",
    "            combinations.append([block, shop, item])\n",
    "combinations = pd.DataFrame(combinations, columns = [\"date_block_num\", \"shop_id\", \"item_id\"])\n",
    "\n",
    "print(combinations.shape)"
   ]
  },
  {
   "cell_type": "markdown",
   "metadata": {},
   "source": [
    "Since the test set consists of all combinations between the unique shop and item ids in the test set, we don't have to worry about figuring out which combinations to drop from those created in the loops above (i.e. potentially introducing a shop/item combination that doesn't exist in the test set)."
   ]
  },
  {
   "cell_type": "code",
   "execution_count": 6,
   "metadata": {},
   "outputs": [
    {
     "name": "stdout",
     "output_type": "stream",
     "text": [
      "   date_block_num  shop_id  item_id  item_category_id\n",
      "0               0        2       30                40\n",
      "1               0        2       31                37\n",
      "2               0        2       32                40\n",
      "3               0        2       33                37\n",
      "4               0        2       38                41\n",
      "(7358728, 4)\n",
      "   shop_id  item_id  item_category_id  date_block_num\n",
      "0        5     5037                19              34\n",
      "1        5     5320                55              34\n",
      "2        5     5233                19              34\n",
      "3        5     5232                23              34\n",
      "4        5     5268                20              34\n",
      "   date_block_num  shop_id  item_id  item_category_id  item_cnt_month\n",
      "0               0        2       30                40             0.0\n",
      "1               0        2       31                37             0.0\n",
      "2               0        2       32                40             0.0\n",
      "3               0        2       33                37             1.0\n",
      "4               0        2       38                41             0.0\n",
      "(7358728, 5)\n",
      "date_block_num      0\n",
      "shop_id             0\n",
      "item_id             0\n",
      "item_category_id    0\n",
      "item_cnt_month      0\n",
      "dtype: int64\n"
     ]
    }
   ],
   "source": [
    "category_subset = items[[\"item_id\", \"item_category_id\"]]\n",
    "combinations = combinations.merge(category_subset, on = [\"item_id\"], how = \"left\")\n",
    "new_test = test.merge(category_subset, on = [\"item_id\"], how = \"left\")\n",
    "combinations = combinations.merge(leaky_sales, on = [\"date_block_num\", \"shop_id\", \"item_id\"], how='left')\n",
    "combinations = combinations[[\"date_block_num\", \"shop_id\", \"item_id\", \"item_category_id\"]]\n",
    "print(combinations.head())\n",
    "print(combinations.shape)\n",
    "#Create target variable leaked_combos[\"item_cnt_month\"]\n",
    "leaky_sales[\"item_cnt_day\"] = leaky_sales[\"item_cnt_day\"].clip(0,20)\n",
    "target = leaky_sales.groupby([\"date_block_num\", \"shop_id\", \"item_id\"], as_index = False)[\"item_cnt_day\"].sum()\n",
    "train = combinations.merge(target, on = [\"date_block_num\", \"shop_id\", \"item_id\"], how = \"left\").fillna(0)\n",
    "train[\"item_cnt_day\"] = train[\"item_cnt_day\"].clip(0,20)\n",
    "train.rename(index=str, columns = {\"item_cnt_day\":\"item_cnt_month\"}, inplace = True)\n",
    "new_test[\"date_block_num\"] = 34\n",
    "new_test.drop(\"ID\", axis = 1, inplace = True)\n",
    "print(new_test.head())\n",
    "print(train.head())\n",
    "print(train.shape)\n",
    "print(train.isna().sum())\n"
   ]
  },
  {
   "cell_type": "markdown",
   "metadata": {},
   "source": [
    "**Data Visualization** "
   ]
  },
  {
   "cell_type": "markdown",
   "metadata": {},
   "source": [
    "Now that we've created some baseline models, we can explore some data visualization in order to maybe see some underlying trends, create some features based off of what we think is important, explore for outliers, and just in general get a better grasp on what's going on in our data. We'll start off by visualizing total sales for each month by how many items are sold (indepedent of store/item)."
   ]
  },
  {
   "cell_type": "code",
   "execution_count": 7,
   "metadata": {},
   "outputs": [
    {
     "data": {
      "text/plain": [
       "[<matplotlib.lines.Line2D at 0x7f15abd097b8>]"
      ]
     },
     "execution_count": 7,
     "metadata": {},
     "output_type": "execute_result"
    },
    {
     "data": {
      "image/png": "[encoded data removed]",
      "text/plain": [
       "<Figure size 1440x720 with 1 Axes>"
      ]
     },
     "metadata": {
      "needs_background": "light"
     },
     "output_type": "display_data"
    }
   ],
   "source": [
    "import matplotlib.pyplot as plt\n",
    "monthly_total_item_cnt = sales_train.groupby(\"date_block_num\", as_index = False)[\"item_cnt_day\"].sum()\n",
    "months,counts = monthly_total_item_cnt.date_block_num, monthly_total_item_cnt.item_cnt_day\n",
    "plt.figure(figsize=(20,10)) \n",
    "plt.xticks(np.arange(0, 34, 1.0))\n",
    "plt.plot(months,counts)"
   ]
  },
  {
   "cell_type": "markdown",
   "metadata": {},
   "source": [
    "From this it looks like theres a huge spike in sales during November for both years. This is particularly significant because our test set is during November of the following year. As of now, I suspect this is because of holiday shopping."
   ]
  },
  {
   "cell_type": "markdown",
   "metadata": {},
   "source": [
    "Now since we know that about half of our test data includes in shop/item combos not introduced in our training data, it would be helpful to see what item categories, shops, and items are the most popular so that we can identify potential trends and predictors for these new combinations."
   ]
  },
  {
   "cell_type": "code",
   "execution_count": 8,
   "metadata": {},
   "outputs": [
    {
     "data": {
      "text/plain": [
       "<BarContainer object of 60 artists>"
      ]
     },
     "execution_count": 8,
     "metadata": {},
     "output_type": "execute_result"
    },
    {
     "data": {
      "image/png": "[encoded data removed]",
      "text/plain": [
       "<Figure size 1440x720 with 2 Axes>"
      ]
     },
     "metadata": {
      "needs_background": "light"
     },
     "output_type": "display_data"
    }
   ],
   "source": [
    "f, ax = plt.subplots(nrows = 1, ncols = 2, figsize = [20,10])\n",
    "plt.subplot(121)\n",
    "item_category_sales_counts = leaky_sales.groupby(\"item_id\", as_index = False)[\"item_cnt_day\"].sum()\n",
    "item_category_sales_counts = item_category_sales_counts.sort_values(by=\"item_cnt_day\", ascending=False)\n",
    "categories, counts = item_category_sales_counts.item_id, item_category_sales_counts.item_cnt_day\n",
    "plt.ylim(0, 5000)\n",
    "\n",
    "plt.xlabel(\"Items\")\n",
    "plt.ylabel(\"item_count_total\")\n",
    "plt.bar(categories,counts)\n",
    "\n",
    "plt.subplot(122)\n",
    "shop_sales_counts = sales_train.groupby(\"shop_id\", as_index = False)[\"item_cnt_day\"].sum()\n",
    "shopz, counts = shop_sales_counts.shop_id, shop_sales_counts.item_cnt_day\n",
    "plt.xlabel(\"Shops\")\n",
    "plt.ylabel(\"item_count_total\")\n",
    "plt.bar(shopz,counts)"
   ]
  },
  {
   "cell_type": "code",
   "execution_count": 9,
   "metadata": {},
   "outputs": [
    {
     "name": "stdout",
     "output_type": "stream",
     "text": [
      "0.5 59200.0\n"
     ]
    },
    {
     "data": {
      "image/png": "[encoded data removed]",
      "text/plain": [
       "<Figure size 1080x576 with 2 Axes>"
      ]
     },
     "metadata": {
      "needs_background": "light"
     },
     "output_type": "display_data"
    }
   ],
   "source": [
    "#item price scatter plot\n",
    "f, ax = plt.subplots(nrows = 1, ncols = 2, figsize = [15,8])\n",
    "item_prices = leaky_sales.item_price\n",
    "bins = [i for i in range(0,10000)]\n",
    "plt.subplot(121)\n",
    "plt.hist(item_prices, bins = bins, color = \"red\", edgecolor = \"green\")\n",
    "plt.xlabel(\"Item Prices & Distributions\")\n",
    "prices = sorted(item_prices.unique())\n",
    "print(prices[0], prices[-1])\n",
    "plt.subplot(122)\n",
    "plt.xlabel(\"Item_cnt_day\")\n",
    "plt.boxplot(sales_train.item_cnt_day)\n",
    "plt.ylim(-100, 3000)\n",
    "plt.tight_layout()"
   ]
  },
  {
   "cell_type": "markdown",
   "metadata": {},
   "source": [
    "So it looks like the distribution of items sold across shops and categories is pretty scattered and far from uniform. "
   ]
  },
  {
   "cell_type": "markdown",
   "metadata": {},
   "source": [
    "**Feature Engineering**"
   ]
  },
  {
   "cell_type": "markdown",
   "metadata": {},
   "source": [
    "5. Total shop/item sales - shop/item_total_sales \n",
    "6. Mean item price - mean_item_price\n",
    "7. mean shop/item price - mean_shop/item_price\n",
    "8. Total shop/item count - shop/item_total_cnt\n",
    "9. Shop/item count from last {1,2,3,6,12} months - shop/item_cnt_month_lag{1,2,3,6,12}\n",
    "10. Total shop sales from {1,2,3,6,12} months ago - shop_total_sales_month_lag1{1,2,3,6,12}\n",
    "11. Total item sales from {1,2,3,6,12} months ago- item_total_sales_month_lag{1,2,3,6,12}\n",
    "12. Mean monthly shop/item count from last three months - shop_item_mean_cnt_month_lag3 *\n",
    "13. Mean monthly total shop sales from last three months - shop_mean_total_sales_month_lag3 *\n",
    "14. Mean monthly total item sales from last three months - item_mean_total_sales_month_lag3 *\n",
    "15. Mean item_price over last three months"
   ]
  },
  {
   "cell_type": "code",
   "execution_count": 10,
   "metadata": {},
   "outputs": [
    {
     "name": "stderr",
     "output_type": "stream",
     "text": [
      "/opt/conda/lib/python3.6/site-packages/ipykernel_launcher.py:3: FutureWarning: Sorting because non-concatenation axis is not aligned. A future version\n",
      "of pandas will change to not sort by default.\n",
      "\n",
      "To accept the future behavior, pass 'sort=False'.\n",
      "\n",
      "To retain the current behavior and silence the warning, pass 'sort=True'.\n",
      "\n",
      "  This is separate from the ipykernel package so we can avoid doing imports until\n"
     ]
    },
    {
     "name": "stdout",
     "output_type": "stream",
     "text": [
      "date_block_num               0\n",
      "item_category_id             0\n",
      "item_cnt_month               0\n",
      "item_id                      0\n",
      "shop_id                      0\n",
      "shop/item_total_sales        0\n",
      "shop/item_total_cnt          0\n",
      "mean_item_price          16128\n",
      "shop/item_mean_price     16128\n",
      "dtype: int64\n",
      "(7572928, 9)\n",
      "   date_block_num  item_category_id  item_cnt_month  item_id  shop_id  \\\n",
      "0               0                40             0.0       30        2   \n",
      "1               0                37             0.0       31        2   \n",
      "2               0                40             0.0       32        2   \n",
      "3               0                37             1.0       33        2   \n",
      "4               0                41             0.0       38        2   \n",
      "\n",
      "   shop/item_total_sales  shop/item_total_cnt  mean_item_price  \\\n",
      "0                1096.00                  4.0       324.562531   \n",
      "1                5008.42                  8.0       573.793088   \n",
      "2                1609.00                 11.0       250.083706   \n",
      "3                2489.00                 11.0       249.273016   \n",
      "4                   0.00                  0.0      2351.537037   \n",
      "\n",
      "   shop/item_mean_price  \n",
      "0            274.000000  \n",
      "1            626.052500  \n",
      "2            146.272727  \n",
      "3            226.272727  \n",
      "4           2324.938686  \n",
      "                           count          mean           std        min  \\\n",
      "date_block_num         7572928.0     17.166597     10.043357   0.000000   \n",
      "item_category_id       7572928.0     45.604889     17.042848   0.000000   \n",
      "item_cnt_month         7572928.0      0.861847      3.048360   0.000000   \n",
      "item_id                7572928.0  10891.914684   6245.727924  30.000000   \n",
      "shop_id                7572928.0     31.691854     17.442741   2.000000   \n",
      "shop/item_total_sales  7572928.0  13480.199958  87688.425070   0.000000   \n",
      "shop/item_total_cnt    7572928.0     29.692390    308.945185   0.000000   \n",
      "mean_item_price        7556800.0   1033.505692   1977.638821   4.962375   \n",
      "shop/item_mean_price   7556800.0   1030.173661   1982.478697   0.990000   \n",
      "\n",
      "                               25%           50%           75%           max  \n",
      "date_block_num            9.000000     17.000000     26.000000  3.400000e+01  \n",
      "item_category_id         31.000000     41.000000     58.000000  8.300000e+01  \n",
      "item_cnt_month            0.000000      0.000000      0.000000  2.000000e+01  \n",
      "item_id                5145.000000  10945.000000  16045.000000  2.216700e+04  \n",
      "shop_id                  16.000000     34.000000     47.000000  5.900000e+01  \n",
      "shop/item_total_sales     0.000000    647.000000   4573.000000  4.916355e+06  \n",
      "shop/item_total_cnt       0.000000      1.000000      8.000000  1.474500e+04  \n",
      "mean_item_price         292.864521    497.596023   1244.266667  3.999050e+04  \n",
      "shop/item_mean_price    290.332859    499.000000   1227.571429  4.299000e+04  \n"
     ]
    }
   ],
   "source": [
    "#feature 5, 6, 7, 8, 9, 10, 11\n",
    "leaky_sales = leaky_sales[leaky_sales[\"item_price\"] >= 0]\n",
    "all_data = pd.concat([train, new_test], axis= 0)\n",
    "\n",
    "feature_5 = leaky_sales.groupby([\"shop_id\", \"item_id\"], as_index = False)[\"item_price\"].sum()\n",
    "feature_5.rename(index = str, columns = {\"item_price\" : \"shop/item_total_sales\"}, inplace = True)\n",
    "all_data = all_data.merge(feature_5, on = [\"shop_id\", \"item_id\"], how = \"left\").fillna(0)\n",
    "\n",
    "feature_8 = leaky_sales.groupby([\"shop_id\", \"item_id\"], as_index = False)[\"item_cnt_day\"].sum()\n",
    "feature_8.rename(index = str, columns = {\"item_cnt_day\" : \"shop/item_total_cnt\"}, inplace = True)\n",
    "all_data = all_data.merge(feature_8, on = [\"shop_id\", \"item_id\"], how = \"left\").fillna(0)\n",
    "\n",
    "feature_6 = leaky_sales.groupby(\"item_id\", as_index = False)[\"item_price\"].mean()\n",
    "feature_6.rename(index = str, columns = {\"item_price\" : \"mean_item_price\"}, inplace = True)\n",
    "all_data = all_data.merge(feature_6, on = \"item_id\", how = \"left\")\n",
    "\n",
    "feature_7 = leaky_sales.groupby([\"shop_id\", \"item_id\"], as_index = False)[\"item_price\"].mean()\n",
    "feature_7.rename(index = str, columns = {\"item_price\" : \"shop/item_mean_price\"}, inplace = True)\n",
    "all_data = all_data.merge(feature_7, on = [\"shop_id\", \"item_id\"], how = \"left\")\n",
    "\n",
    "#fill shop/item combinations where a sale has never been made (resulting in a NAN for that particular shop/item_mean_price)\n",
    "#replace these values with the mean item price across all shops\n",
    "all_data[\"shop/item_mean_price\"] = all_data.groupby(\"item_id\")[\"shop/item_mean_price\"].transform(lambda x: x.fillna(x.mean()))\n",
    "\n",
    "print(all_data.isna().sum())\n",
    "print(all_data.shape)\n",
    "print(all_data.head())\n",
    "print(all_data.describe().T)"
   ]
  },
  {
   "cell_type": "code",
   "execution_count": 11,
   "metadata": {},
   "outputs": [],
   "source": [
    "lag_months = [1,2,3,6,12]\n",
    "for lag in lag_months:\n",
    "    feature_9 = leaky_sales.groupby([\"date_block_num\", \"shop_id\", \"item_id\"], as_index=False)[\"item_cnt_day\"].sum()\n",
    "    feature_9.date_block_num = feature_9.date_block_num + lag\n",
    "    feature_9.rename(index = str, columns = {\"item_cnt_day\" : \"shop/item_cnt_month_lag{}\".format(lag)}, inplace = True)\n",
    "    all_data = all_data.merge(feature_9, on = [\"date_block_num\", \"shop_id\", \"item_id\"], how = \"left\")\n",
    "    all_data[\"shop/item_cnt_month_lag{}\".format(lag)].fillna(0, inplace=True)\n",
    "    \n",
    "    feature_10 = leaky_sales.groupby([\"date_block_num\", \"shop_id\"], as_index = False)[\"item_price\"].sum()\n",
    "    feature_10.date_block_num = feature_10.date_block_num + lag\n",
    "    feature_10.rename(index = str, columns = {\"item_price\" : \"shop_total_sales_month_lag{}\".format(lag)}, inplace = True)\n",
    "    all_data = all_data.merge(feature_10, on = [\"date_block_num\", \"shop_id\"], how = \"left\")\n",
    "    all_data[\"shop_total_sales_month_lag{}\".format(lag)].fillna(0, inplace=True)\n",
    "    \n",
    "    feature_11 = leaky_sales.groupby([\"date_block_num\", \"item_id\"], as_index = False)[\"item_price\"].sum()\n",
    "    feature_11.date_block_num = feature_11.date_block_num + lag\n",
    "    feature_11.rename(index = str, columns = {\"item_price\" : \"item_total_sales_month_lag{}\".format(lag)}, inplace = True)\n",
    "    all_data = all_data.merge(feature_11, on = [\"date_block_num\", \"item_id\"], how = \"left\")\n",
    "    all_data[\"item_total_sales_month_lag{}\".format(lag)].fillna(0, inplace=True)\n"
   ]
  },
  {
   "cell_type": "code",
   "execution_count": 12,
   "metadata": {},
   "outputs": [],
   "source": [
    "for block in range(12, 35):\n",
    "    lower = block - 3\n",
    "    sub3_train = all_data[all_data.date_block_num >= lower]\n",
    "    sub3_train = sub3_train[sub3_train.date_block_num < block]\n",
    "    sub3_leaky_sales = leaky_sales[leaky_sales.date_block_num >= lower]\n",
    "    sub3_leaky_sales = sub3_leaky_sales[sub3_leaky_sales.date_block_num < block]\n",
    "    feature_15 = sub3_leaky_sales.groupby(\"item_id\", as_index = False)[\"item_price\"].mean()\n",
    "    feature_15.rename(index = str, columns = {\"item_price\" : \"mean_item_price_lag3\"}, inplace = True)\n",
    "    feature_15[\"date_block_num\"] = block\n",
    "    \n",
    "    feature_12 = sub3_train.groupby([\"shop_id\", \"item_id\"], as_index = False)[\"item_cnt_month\"].mean()\n",
    "    feature_12.rename(index = str, columns = {\"item_cnt_month\" : \"mean_shop/item_cnt_lag3\"}, inplace = True)\n",
    "    feature_12[\"date_block_num\"] = block\n",
    "    \n",
    "    feature_13 = sub3_leaky_sales.groupby([\"date_block_num\", \"shop_id\"], as_index=False)[\"item_price\"].sum()\n",
    "    feature_13 = feature_13.groupby(\"shop_id\", as_index=False)[\"item_price\"].mean()\n",
    "    feature_13.rename(index = str, columns = {\"item_price\" : \"shop_mean_total_sales_month_lag3\"}, inplace = True)\n",
    "    feature_13[\"date_block_num\"] = block\n",
    "    \n",
    "    feature_14 = sub3_leaky_sales.groupby([\"date_block_num\", \"item_id\"], as_index=False)[\"item_price\"].sum()\n",
    "    feature_14 = feature_14.groupby(\"item_id\", as_index=False)[\"item_price\"].mean()\n",
    "    feature_14.rename(index = str, columns = {\"item_price\" : \"item_mean_total_sales_month_lag3\"}, inplace = True)\n",
    "    feature_14[\"date_block_num\"] = block\n",
    "    if block == 12:\n",
    "        m12 = feature_12.copy()\n",
    "        m13 = feature_13.copy()\n",
    "        m14 = feature_14.copy()\n",
    "        m15 = feature_15.copy()\n",
    "    else:\n",
    "        m12 = pd.concat([m12, feature_12.copy()], axis = 0)\n",
    "        m13 = pd.concat([m13, feature_13.copy()], axis = 0)\n",
    "        m14 = pd.concat([m14, feature_14.copy()], axis = 0)\n",
    "        m15 = pd.concat([m15, feature_15.copy()], axis = 0)"
   ]
  },
  {
   "cell_type": "code",
   "execution_count": 13,
   "metadata": {},
   "outputs": [
    {
     "name": "stdout",
     "output_type": "stream",
     "text": [
      "date_block_num                            0\n",
      "item_category_id                          0\n",
      "item_cnt_month                            0\n",
      "item_id                                   0\n",
      "shop_id                                   0\n",
      "shop/item_total_sales                     0\n",
      "shop/item_total_cnt                       0\n",
      "mean_item_price                       16128\n",
      "shop/item_mean_price                  16128\n",
      "shop/item_cnt_month_lag1                  0\n",
      "shop_total_sales_month_lag1               0\n",
      "item_total_sales_month_lag1               0\n",
      "shop/item_cnt_month_lag2                  0\n",
      "shop_total_sales_month_lag2               0\n",
      "item_total_sales_month_lag2               0\n",
      "shop/item_cnt_month_lag3                  0\n",
      "shop_total_sales_month_lag3               0\n",
      "item_total_sales_month_lag3               0\n",
      "shop/item_cnt_month_lag6                  0\n",
      "shop_total_sales_month_lag6               0\n",
      "item_total_sales_month_lag6               0\n",
      "shop/item_cnt_month_lag12                 0\n",
      "shop_total_sales_month_lag12              0\n",
      "item_total_sales_month_lag12              0\n",
      "mean_shop/item_cnt_lag3                   0\n",
      "shop_mean_total_sales_month_lag3          0\n",
      "item_mean_total_sales_month_lag3          0\n",
      "mean_item_price_lag3                4533376\n",
      "dtype: int64\n",
      "                                      count           mean            std  \\\n",
      "date_block_num                    7572928.0      17.166597      10.043357   \n",
      "item_category_id                  7572928.0      45.604889      17.042848   \n",
      "item_cnt_month                    7572928.0       0.861847       3.048360   \n",
      "item_id                           7572928.0   10891.914684    6245.727924   \n",
      "shop_id                           7572928.0      31.691854      17.442741   \n",
      "shop/item_total_sales             7572928.0   13480.199958   87688.425070   \n",
      "shop/item_total_cnt               7572928.0      29.692390     308.945185   \n",
      "mean_item_price                   7556800.0    1033.505692    1977.638821   \n",
      "shop/item_mean_price              7556800.0    1030.173661    1982.478697   \n",
      "shop/item_cnt_month_lag1          7572928.0       1.235203      11.972969   \n",
      "shop_total_sales_month_lag1       7572928.0  910568.201271  832619.796052   \n",
      "item_total_sales_month_lag1       7572928.0   18633.399933  154713.795973   \n",
      "shop/item_cnt_month_lag2          7572928.0       1.071704      11.457912   \n",
      "shop_total_sales_month_lag2       7572928.0  864988.925196  815911.024879   \n",
      "item_total_sales_month_lag2       7572928.0   16155.467751  155442.265912   \n",
      "shop/item_cnt_month_lag3          7572928.0       0.984537      11.180467   \n",
      "shop_total_sales_month_lag3       7572928.0  824861.912907  808426.779011   \n",
      "item_total_sales_month_lag3       7572928.0   14447.635189  146648.291269   \n",
      "shop/item_cnt_month_lag6          7572928.0       0.813638      10.617522   \n",
      "shop_total_sales_month_lag6       7572928.0  722884.880155  796020.706629   \n",
      "item_total_sales_month_lag6       7572928.0   11254.135760  131897.075157   \n",
      "shop/item_cnt_month_lag12         7572928.0       0.551316       9.321397   \n",
      "shop_total_sales_month_lag12      7572928.0  473584.597992  593386.498893   \n",
      "item_total_sales_month_lag12      7572928.0    6254.300099   87156.257373   \n",
      "mean_shop/item_cnt_lag3           7572928.0       0.544785       2.331766   \n",
      "shop_mean_total_sales_month_lag3  7572928.0  759963.543353  852376.794550   \n",
      "item_mean_total_sales_month_lag3  7572928.0   16136.049558  146710.547649   \n",
      "mean_item_price_lag3              3039552.0     883.630104    1530.291288   \n",
      "\n",
      "                                        min            25%            50%  \\\n",
      "date_block_num                     0.000000       9.000000      17.000000   \n",
      "item_category_id                   0.000000      31.000000      41.000000   \n",
      "item_cnt_month                     0.000000       0.000000       0.000000   \n",
      "item_id                           30.000000    5145.000000   10945.000000   \n",
      "shop_id                            2.000000      16.000000      34.000000   \n",
      "shop/item_total_sales              0.000000       0.000000     647.000000   \n",
      "shop/item_total_cnt                0.000000       0.000000       1.000000   \n",
      "mean_item_price                    4.962375     292.864521     497.596023   \n",
      "shop/item_mean_price               0.990000     290.332859     499.000000   \n",
      "shop/item_cnt_month_lag1           0.000000       0.000000       0.000000   \n",
      "shop_total_sales_month_lag1        0.000000  385341.680476  709053.886250   \n",
      "item_total_sales_month_lag1        0.000000       0.000000       0.000000   \n",
      "shop/item_cnt_month_lag2           0.000000       0.000000       0.000000   \n",
      "shop_total_sales_month_lag2        0.000000  344428.970000  684860.114000   \n",
      "item_total_sales_month_lag2        0.000000       0.000000       0.000000   \n",
      "shop/item_cnt_month_lag3           0.000000       0.000000       0.000000   \n",
      "shop_total_sales_month_lag3        0.000000  313470.193571  654073.537500   \n",
      "item_total_sales_month_lag3        0.000000       0.000000       0.000000   \n",
      "shop/item_cnt_month_lag6           0.000000       0.000000       0.000000   \n",
      "shop_total_sales_month_lag6        0.000000  164816.500000  554664.711067   \n",
      "item_total_sales_month_lag6        0.000000       0.000000       0.000000   \n",
      "shop/item_cnt_month_lag12          0.000000       0.000000       0.000000   \n",
      "shop_total_sales_month_lag12       0.000000       0.000000  316859.000000   \n",
      "item_total_sales_month_lag12       0.000000       0.000000       0.000000   \n",
      "mean_shop/item_cnt_lag3            0.000000       0.000000       0.000000   \n",
      "shop_mean_total_sales_month_lag3   0.000000       0.000000  664436.874832   \n",
      "item_mean_total_sales_month_lag3   0.000000       0.000000       0.000000   \n",
      "mean_item_price_lag3               4.944571     249.000000     414.525000   \n",
      "\n",
      "                                           75%           max  \n",
      "date_block_num                    2.600000e+01  3.400000e+01  \n",
      "item_category_id                  5.800000e+01  8.300000e+01  \n",
      "item_cnt_month                    0.000000e+00  2.000000e+01  \n",
      "item_id                           1.604500e+04  2.216700e+04  \n",
      "shop_id                           4.700000e+01  5.900000e+01  \n",
      "shop/item_total_sales             4.573000e+03  4.916355e+06  \n",
      "shop/item_total_cnt               8.000000e+00  1.474500e+04  \n",
      "mean_item_price                   1.244267e+03  3.999050e+04  \n",
      "shop/item_mean_price              1.227571e+03  4.299000e+04  \n",
      "shop/item_cnt_month_lag1          0.000000e+00  6.180000e+02  \n",
      "shop_total_sales_month_lag1       1.155903e+06  7.028080e+06  \n",
      "item_total_sales_month_lag1       2.998000e+03  1.152068e+07  \n",
      "shop/item_cnt_month_lag2          0.000000e+00  6.180000e+02  \n",
      "shop_total_sales_month_lag2       1.117788e+06  7.028080e+06  \n",
      "item_total_sales_month_lag2       2.398000e+03  1.152068e+07  \n",
      "shop/item_cnt_month_lag3          0.000000e+00  6.180000e+02  \n",
      "shop_total_sales_month_lag3       1.093717e+06  7.028080e+06  \n",
      "item_total_sales_month_lag3       2.071000e+03  1.152068e+07  \n",
      "shop/item_cnt_month_lag6          0.000000e+00  6.180000e+02  \n",
      "shop_total_sales_month_lag6       9.996846e+05  7.028080e+06  \n",
      "item_total_sales_month_lag6       1.195200e+03  1.152068e+07  \n",
      "shop/item_cnt_month_lag12         0.000000e+00  6.180000e+02  \n",
      "shop_total_sales_month_lag12      7.265681e+05  4.071027e+06  \n",
      "item_total_sales_month_lag12      0.000000e+00  1.152068e+07  \n",
      "mean_shop/item_cnt_lag3           0.000000e+00  2.000000e+01  \n",
      "shop_mean_total_sales_month_lag3  1.106718e+06  5.195059e+06  \n",
      "item_mean_total_sales_month_lag3  2.159333e+03  7.565280e+06  \n",
      "mean_item_price_lag3              1.089909e+03  3.999050e+04  \n"
     ]
    }
   ],
   "source": [
    "all_data = all_data.merge(m12, on = [\"date_block_num\", \"shop_id\", \"item_id\"], how = \"left\")\n",
    "all_data = all_data.merge(m13, on = [\"date_block_num\", \"shop_id\"], how = \"left\")\n",
    "all_data = all_data.merge(m14, on = [\"date_block_num\", \"item_id\"], how = \"left\")\n",
    "all_data = all_data.merge(m15, on = [\"date_block_num\", \"item_id\"], how = \"left\")\n",
    "\n",
    "all_data[\"mean_shop/item_cnt_lag3\"].fillna(0, inplace = True)\n",
    "all_data[\"shop_mean_total_sales_month_lag3\"].fillna(0, inplace = True)\n",
    "all_data[\"item_mean_total_sales_month_lag3\"].fillna(0, inplace = True)\n",
    "\n",
    "print(all_data.isna().sum())\n",
    "print(all_data.describe().T)"
   ]
  },
  {
   "cell_type": "code",
   "execution_count": 14,
   "metadata": {},
   "outputs": [
    {
     "name": "stdout",
     "output_type": "stream",
     "text": [
      "(4601349, 27)\n",
      "(218924, 27)\n",
      "(214200, 27)\n"
     ]
    }
   ],
   "source": [
    "from math import sqrt\n",
    "from sklearn.model_selection import StratifiedKFold\n",
    "from sklearn.metrics import mean_squared_error\n",
    "#make sure columns are in same order for train and test\n",
    "all_data = all_data[all_data.date_block_num >= 12]\n",
    "X_test = all_data[all_data.date_block_num == 34]\n",
    "y_test = X_test[\"item_cnt_month\"]\n",
    "X_test = X_test[X_test.drop(\"item_cnt_month\", axis = 1).columns]\n",
    "X_train = all_data[all_data.date_block_num <= 32]\n",
    "y_train = X_train.item_cnt_month\n",
    "X_train = X_train[X_train.drop(\"item_cnt_month\", axis = 1).columns]\n",
    "X_val = all_data[all_data.date_block_num == 33]\n",
    "y_val = X_val.item_cnt_month\n",
    "X_val = X_val[X_val.drop(\"item_cnt_month\", axis = 1).columns]\n",
    "X_trainv1, y_trainv1 = pd.concat([X_train, X_val]), pd.concat([y_train, y_val])\n",
    "print(X_train.shape)\n",
    "print(X_val.shape)\n",
    "print(X_test.shape)"
   ]
  },
  {
   "cell_type": "markdown",
   "metadata": {},
   "source": [
    "So far XGBoost has been bittersweet, as it's giving me the best results out of all of the below models individually and combined. Unfortunately it takes too long to run to combine with the other models into a meta model; the kernel crashes every time I attempt to include it in."
   ]
  },
  {
   "cell_type": "code",
   "execution_count": 15,
   "metadata": {},
   "outputs": [
    {
     "name": "stderr",
     "output_type": "stream",
     "text": [
      "/opt/conda/lib/python3.6/site-packages/xgboost/core.py:587: FutureWarning: Series.base is deprecated and will be removed in a future version\n",
      "  if getattr(data, 'base', None) is not None and \\\n"
     ]
    },
    {
     "name": "stdout",
     "output_type": "stream",
     "text": [
      "[23:57:52] WARNING: /workspace/src/objective/regression_obj.cu:152: reg:linear is now deprecated in favor of reg:squarederror.\n",
      "[23:57:52] WARNING: /workspace/src/learner.cc:686: Tree method is automatically selected to be 'approx' for faster speed. To use old behavior (exact greedy algorithm on single machine), set tree_method to 'exact'.\n",
      "[0.02325924 0.01223638 0.01547126 0.00282003 0.00685297 0.13859668\n",
      " 0.01726354 0.00926497 0.5071802  0.00472736 0.01187297 0.00780313\n",
      " 0.00540452 0.05009821 0.00488507 0.00680014 0.01546731 0.00695798\n",
      " 0.00620723 0.05160077 0.00570541 0.00823336 0.0237198  0.02758203\n",
      " 0.00579485 0.01091976 0.01327487]\n"
     ]
    }
   ],
   "source": [
    "import xgboost as xgb\n",
    "\n",
    "xgb_model = xgb.XGBRegressor(max_depth = 11, min_child_weight=0.5, eta = 0.2, num_round = 1000, seed = 1)\n",
    "xgb_model.fit(X_trainv1, y_trainv1, eval_metric = \"rmse\")\n",
    "# y_xgb_val = xgb_model.predict(X_val)\n",
    "# y_xgb_val = y_xgb_val.clip(0,20)\n",
    "# print('val set rmse: ', mean_squared_error(y_val, y_xgb_val))\n",
    "y_xgb_test = xgb_model.predict(X_test)\n",
    "y_xgb_test = y_xgb_test.clip(0,20)\n",
    "cols = {\"ID\": test[\"ID\"].values, \"item_cnt_month\": y_xgb_test}\n",
    "print(xgb_model.feature_importances_)\n",
    "submission = pd.DataFrame.from_dict(cols)\n",
    "submission.to_csv(\"xgb_submission.csv\", index=False)"
   ]
  },
  {
   "cell_type": "markdown",
   "metadata": {},
   "source": [
    "**Stacking**\n",
    "\n",
    "Gradient-Boosted Methods: Catboost, lightGBM\n",
    "\n",
    "Neural-Nets: 1 layer and 2 layer non-linear nn's.\n",
    "\n",
    "Random Forest\n",
    "\n",
    "Ridge Regression"
   ]
  },
  {
   "cell_type": "markdown",
   "metadata": {},
   "source": [
    "In order to create meta features for our meta model, we're going to need to do a quasi cross validation loop where we can successively iterate through training data with date_block_num whom we want to include in the new train matrix, where we'll use all old training data leading up to our current_date_block num in order to predict the meta-features for the subset of data corresponding to the current date_block_num.\n",
    "\n",
    "In order to ensure that the susbset of training data we use to train everytime is large, we'll start creating meta-features at date_block_num 22. This also ensures that we have a years worth of training data in our final meta data matrix.\n",
    "\n",
    "Remember the end goal is to have a training matrix whose columns are date_block_num, item_id, shop_id and the predictions each model has. Then, we'll create a meta model with linear regression to predict the item_cnt_months for our test data, that of date_block_num 34, where we use this meta-data model."
   ]
  },
  {
   "cell_type": "code",
   "execution_count": 16,
   "metadata": {},
   "outputs": [],
   "source": [
    "# from tqdm import tqdm\n",
    "# from catboost import CatBoostRegressor\n",
    "# import lightgbm as lgb\n",
    "# from keras.models import Sequential\n",
    "# from keras.layers import Dense\n",
    "# from sklearn.linear_model import Ridge\n",
    "# from sklearn.ensemble import RandomForestRegressor\n",
    "# from sklearn.metrics import mean_squared_error\n",
    "# #fill nan values since some of these models cant handle them\n",
    "# meta_months = range(32,35)\n",
    "# all_data = all_data.fillna(0)\n",
    "# all_preds = np.array([])\n",
    "# for block in tqdm(meta_months):\n",
    "#     X_train = all_data[all_data.date_block_num < block].copy()\n",
    "#     X_test = all_data[all_data.date_block_num == block].copy()\n",
    "#     y_train = X_train.item_cnt_month.values\n",
    "#     y_test = X_test.item_cnt_month.values\n",
    "#     X_train = X_train.drop(\"item_cnt_month\", axis = 1)\n",
    "#     X_test = X_test.drop(\"item_cnt_month\", axis = 1)\n",
    "    \n",
    "#     cat_features = [\"date_block_num\", \"shop_id\", \"item_id\", \"item_category_id\"]\n",
    "#     cat_model = CatBoostRegressor(max_depth = 8, learning_rate = 0.3, iterations = 100, random_seed = 1)\n",
    "#     cat_model.fit(X_train, y_train, cat_features)\n",
    "#     y_cat_test = cat_model.predict(X_test)\n",
    "# #taking too long to run\n",
    "# #     xgb_model = xgb.XGBRegressor(num_round = 50, seed = 1)\n",
    "# #     xgb_model.fit(X_train, y_train, eval_metric = \"rmse\")\n",
    "# #     y_xgb_test = xgb_model.predict(X_test)\n",
    "# #     if block != 34:\n",
    "# #         print(\"xgboost rmse:\" + str(mean_squared_error(y_xgb_test, y_test)**(1/2)))\n",
    "    \n",
    "#     lgb_train = lgb.Dataset(X_train, y_train)\n",
    "#     lgb_val = lgb.Dataset(X_test, y_test, reference=lgb_train)\n",
    "#     params = { 'boosting_type': 'gbdt', 'objective': 'regression', 'metric': 'rmse', 'num_leaves': 50,'learning_rate': 0.1,\n",
    "#      'feature_fraction': 0.9, 'bagging_fraction': 0.8, 'bagging_freq': 5, 'verbose': 0}\n",
    "#     gbm_model = lgb.train(params,\n",
    "#                 lgb_train,\n",
    "#                 num_boost_round=50,\n",
    "#                 valid_sets=lgb_val,\n",
    "#                 early_stopping_rounds=5)\n",
    "#     y_gbm_test = gbm_model.predict(X_test)\n",
    "    \n",
    "#     nn_model = Sequential()\n",
    "#     nn_model.add(Dense(units=X_train.shape[1] + 1, activation=\"softsign\", input_dim=X_train.shape[1]))\n",
    "#     nn_model.add(Dense(units=40, activation = \"tanh\"))\n",
    "#     nn_model.add(Dense(units=1, activation = \"linear\"))\n",
    "#     nn_model.compile(loss='mse',optimizer='Adam')\n",
    "#     nn_model.fit(X_train, y_train, epochs = 5, batch_size = 50000)\n",
    "#     y_nn_test = nn_model.predict(X_test)\n",
    "\n",
    "    \n",
    "#     ridge_model = Ridge(alpha=1.0)\n",
    "#     ridge_model.fit(X_train, y_train)\n",
    "#     y_ridge_test = ridge_model.predict(X_test)\n",
    "#     if block != 34:\n",
    "#         print(\"ridge regression rmse:\" + str(mean_squared_error(y_ridge_test, y_test)**(1/2)))\n",
    "    \n",
    "#     randomforest_model = RandomForestRegressor(max_depth=2, random_state=1, n_estimators=10)\n",
    "#     randomforest_model.fit(X_train,y_train)\n",
    "#     y_rf_test = randomforest_model.predict(X_test)\n",
    "#     if block != 34:\n",
    "#         print(\"randomforest rmse:\" + str(mean_squared_error(y_rf_test, y_test)**(1/2)))\n",
    "#     #predictions = np.array([y_cat_test, y_xgb_test, y_gbm_test, y_nn_test[:, 0], y_nn2_test[:, 0], y_ridge_test, y_rf_test])\n",
    "#     predictions = np.array([y_cat_test, y_gbm_test, y_nn_test[:, 0], y_ridge_test, y_rf_test])\n",
    "#     predictions = predictions.T\n",
    "#     print(predictions.shape)\n",
    "#     if len(all_preds) == 0:\n",
    "#         all_preds = predictions\n",
    "#     else:\n",
    "#         print(all_preds.shape, predictions.shape)\n",
    "#         all_preds = np.vstack((all_preds, predictions))\n",
    "#     print(all_preds.shape)"
   ]
  },
  {
   "cell_type": "code",
   "execution_count": 17,
   "metadata": {},
   "outputs": [],
   "source": [
    "# baseline_features = [\"date_block_num\", \"shop_id\", \"item_id\", \"item_cnt_month\"]\n",
    "# meta_data = all_data[all_data.date_block_num >= 32][baseline_features]\n",
    "# print(meta_data.shape, all_preds.shape)\n",
    "# meta_data = pd.concat([meta_data.reset_index(drop=True), all_preds.reset_index(drop=True)], axis = 1)\n",
    "# meta_X_train = meta_data[meta_data.date_block_num <= 33]\n",
    "# meta_y_train = meta_data.item_cnt_month.values\n",
    "# meta_X_train.drop(\"item_cnt_month\", axis = 1, inplace = True)\n",
    "# meta_X_test = meta_data[meta_data.date_block_num == 34]\n",
    "# meta_X_test.drop(\"item_cnt_month\", axis = 1, inplace = True)\n",
    "\n",
    "# from sklearn.linear_model import LinearRegression\n",
    "\n",
    "# print(meta_X_test.shape, test.shape) #need to make sure that these both have same number of rows\n",
    "# print(meta_X_test.head(), test.head()) #make sure that these are also the same elements row-wise\n",
    "# meta_model = LinearRegression()\n",
    "# meta_model.fit(meta_X_train, meta_y_train)\n",
    "# meta_predictions = meta_model.predict(meta_X_test)\n",
    "# test_subset = test[[\"ID\", \"shop_id\", \"item_id\"]].copy()\n",
    "# cols = {\"ID\": test_susbset[\"ID\"].values, \"item_cnt_month\": meta_predictions}\n",
    "# meta_submission = pd.DataFrame.from_dict(cols)\n",
    "# submission.to_csv(\"meta_model_submission.csv\", index=False)"
   ]
  },
  {
   "cell_type": "markdown",
   "metadata": {},
   "source": [
    "**Parameter Testing**"
   ]
  },
  {
   "cell_type": "code",
   "execution_count": 18,
   "metadata": {},
   "outputs": [],
   "source": [
    "# from catboost import CatBoostRegressor\n",
    "\n",
    "# cat_features = [\"date_block_num\", \"shop_id\", \"item_id\", \"item_category_id\"]\n",
    "# cat_model = CatBoostRegressor(max_depth = 12, learning_rate = 0.3, iterations = 100, random_seed = 1)\n",
    "# cat_model.fit(X_trainv1, y_trainv1, cat_features)\n",
    "# # y_cat_val = cat_model.predict(X_val)\n",
    "# # y_cat_val = y_cat_val.clip(0,20)\n",
    "# # print('val set rmse: ', mean_squared_error(y_val, y_cat_val))\n",
    "# y_cat_test = cat_model.predict(X_test)\n",
    "# y_cat_test = y_cat_test.clip(0,20)\n",
    "# test_subset = test[[\"ID\", \"shop_id\", \"item_id\"]].copy()\n",
    "# cols = {\"ID\": test_subset[\"ID\"].values, \"item_cnt_month\": y_cat_test}\n",
    "# cat_submission = pd.DataFrame.from_dict(cols)\n",
    "submission.to_csv(\"cat_submission.csv\", index=False)"
   ]
  },
  {
   "cell_type": "markdown",
   "metadata": {},
   "source": [
    "Score of 1.14 which is best yet, moved me up around 100 positions on the leaderboard."
   ]
  },
  {
   "cell_type": "code",
   "execution_count": 19,
   "metadata": {},
   "outputs": [],
   "source": [
    "# import lightgbm as lgb\n",
    "# lgb_train = lgb.Dataset(X_train, y_train, categorical_feature = [\"date_block_num\", \"shop_id\", \"item_id\", \"item_category_id\"])\n",
    "# lgb_val = lgb.Dataset(X_val, y_val, reference=lgb_train)\n",
    "# params = {\n",
    "#     'boosting_type': 'gbdt',\n",
    "#     'objective': 'regression',\n",
    "#     'metric': 'rmse',\n",
    "#     'num_leaves': 31,\n",
    "#     'learning_rate': 0.05,\n",
    "#     'feature_fraction': 0.9,\n",
    "#     'bagging_fraction': 0.8,\n",
    "#     'bagging_freq': 5,\n",
    "#     'verbose': 0\n",
    "# }\n",
    "# gbm_model = lgb.train(params,\n",
    "#                 lgb_train,\n",
    "#                 num_boost_round=100,\n",
    "#                 valid_sets=lgb_val,\n",
    "#                 early_stopping_rounds=5)\n",
    "# y_gbm_val = gbm_model.predict(X_test, num_iteration=gbm_model.best_iteration)\n",
    "# y_gbm_test = y_gbm_test.clip(0,20)\n",
    "# cols = {\"ID\": test_subset[\"ID\"].values, \"item_cnt_month\": y_gbm_test}\n",
    "# print(xgb_model.feature_importances_)\n",
    "# submission = pd.DataFrame.from_dict(cols)\n",
    "# submission.to_csv(\"lgb_submission.csv\", index=False)"
   ]
  },
  {
   "cell_type": "code",
   "execution_count": 20,
   "metadata": {},
   "outputs": [],
   "source": [
    "# from keras.models import Sequential\n",
    "# from keras.layers import Dense\n",
    "\n",
    "# nn_model = Sequential()\n",
    "# nn_model.add(Dense(units=X_train.shape[1] + 1, activation=\"softsign\", input_dim=X_train.shape[1]))\n",
    "# nn_model.add(Dense(units=40, activation = \"tanh\"))\n",
    "# nn_model.add(Dense(units=40, activation=\"softplus\", input_dim=X_train.shape[1]))\n",
    "# nn_model.add(Dense(units=1, activation = \"linear\"))\n",
    "# nn_model.compile(loss='mse',optimizer='Adam')\n",
    "# nn_model.fit(X_train, y_train, epochs = 5, batch_size = 100000)\n",
    "# y_nn_val = nn_model.predict(X_val)\n",
    "# print('val set rmse: ', mean_squared_error(y_val, y_nn_val))"
   ]
  },
  {
   "cell_type": "code",
   "execution_count": 21,
   "metadata": {},
   "outputs": [],
   "source": [
    "# nn2_model = Sequential()\n",
    "# nn2_model.add(Dense(units= X_train.shape[1] + 1, activation=\"tanh\", input_dim=X_train.shape[1]))\n",
    "# nn2_model.add(Dense(units=X_train.shape[1] + 1, activation = \"relu\"))\n",
    "# nn2_model.add(Dense(units=1, activation = \"linear\"))\n",
    "# nn2_model.compile(loss='mse',optimizer='Adam')\n",
    "# nn2_model.fit(X_train, y_train, epochs = 5, batch_size = 100000)\n",
    "# y_nn2_val = nn2_model.predict(X_val)\n",
    "# print('val set rmse: ', mean_squared_error(y_val, y_nn2_val))"
   ]
  },
  {
   "cell_type": "code",
   "execution_count": 22,
   "metadata": {},
   "outputs": [],
   "source": [
    "# from sklearn.linear_model import Ridge\n",
    "\n",
    "# ridge_model = Ridge(alpha=1)\n",
    "# ridge_model.fit(X_train, y_train)\n",
    "# y_ridge_val = ridge_model.predict(X_val)\n",
    "# y_ridge_val = y_ridge_val.clip(0,20)\n",
    "# print('val set rmse: ', mean_squared_error(y_val, y_ridge_val))"
   ]
  },
  {
   "cell_type": "code",
   "execution_count": 23,
   "metadata": {},
   "outputs": [
    {
     "ename": "NameError",
     "evalue": "name 'randomforest_model' is not defined",
     "output_type": "error",
     "traceback": [
      "\u001b[0;31m---------------------------------------------------------------------------\u001b[0m",
      "\u001b[0;31mNameError\u001b[0m                                 Traceback (most recent call last)",
      "\u001b[0;32m<ipython-input-23-47c6486783b0>\u001b[0m in \u001b[0;36m<module>\u001b[0;34m\u001b[0m\n\u001b[1;32m      6\u001b[0m \u001b[0;31m# y_rf_val = y_rf_val.clip(0,20)\u001b[0m\u001b[0;34m\u001b[0m\u001b[0;34m\u001b[0m\u001b[0m\n\u001b[1;32m      7\u001b[0m \u001b[0;31m# print('val set rmse: ', mean_squared_error(y_val, y_rf_val))\u001b[0m\u001b[0;34m\u001b[0m\u001b[0;34m\u001b[0m\u001b[0m\n\u001b[0;32m----> 8\u001b[0;31m \u001b[0mrandomforest_model\u001b[0m\u001b[0;34m.\u001b[0m\u001b[0mfeature_importances_\u001b[0m\u001b[0;34m\u001b[0m\u001b[0m\n\u001b[0m",
      "\u001b[0;31mNameError\u001b[0m: name 'randomforest_model' is not defined"
     ]
    }
   ],
   "source": [
    "# from sklearn.ensemble import RandomForestRegressor\n",
    "\n",
    "# randomforest_model = RandomForestRegressor(max_depth=2, random_state=1, n_estimators=20)\n",
    "# randomforest_model.fit(X_train,y_train)\n",
    "# y_rf_val = randomforest_model.predict(X_val)\n",
    "# y_rf_val = y_rf_val.clip(0,20)\n",
    "# print('val set rmse: ', mean_squared_error(y_val, y_rf_val))\n",
    "randomforest_model.feature_importances_"
   ]
  }
 ],
 "metadata": {
  "kernelspec": {
   "display_name": "Python 3",
   "language": "python",
   "name": "python3"
  },
  "language_info": {
   "codemirror_mode": {
    "name": "ipython",
    "version": 3
   },
   "file_extension": ".py",
   "mimetype": "text/x-python",
   "name": "python",
   "nbconvert_exporter": "python",
   "pygments_lexer": "ipython3",
   "version": "3.6.6"
  }
 },
 "nbformat": 4,
 "nbformat_minor": 1
}
